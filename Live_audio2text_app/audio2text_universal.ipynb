{
 "cells": [
  {
   "cell_type": "code",
   "execution_count": 1,
   "metadata": {},
   "outputs": [],
   "source": [
    "# pip install PyAudioWPatch\n",
    "\n",
    "from scipy.signal import resample\n",
    "import pyaudiowpatch as pyaudio\n",
    "import time\n",
    "import matplotlib.pyplot as plt\n",
    "import numpy as np\n",
    "from datetime import datetime\n",
    "from transformers import WhisperProcessor, WhisperForConditionalGeneration\n",
    "import torch\n",
    "import wave\n",
    "import soundcard as sc\n",
    "import soundfile as sf\n",
    "import scipy.io.wavfile as wavfile\n",
    "\n",
    "def save_wave(audio_frames,rate):\n",
    "    # Scale back to 16-bit PCM format for saving\n",
    "    audio_normalized = (audio_frames * 32767).astype(np.int16)\n",
    "    # Save the normalized audio to a WAV file\n",
    "    wav_file = f\"temp_audio.wav\"\n",
    "    wavfile.write(wav_file, rate, audio_normalized)\n",
    "\n"
   ]
  },
  {
   "cell_type": "markdown",
   "metadata": {},
   "source": [
    "### To use the output from the speakers, there is no stright way. We have to create a virtual \"microphone\" which will \"loop back\" the speake's output as input.\n",
    "\n",
    "```pyaudiowpatch``` It is a nice library, that helps us loop-back the output from window's speaker as input. But it only works with WINDOWS for now. Also, even using this not that strightforward and you will have to tweak some parameters according to your system.\n",
    "\n",
    "Here are some steps to select the right speaker:\n",
    "\n",
    "- First get the list of speakers and micro_phones available.\n",
    "- look for ```isLoopbackDevice``` parameter in the list. If this is ```True``` for loopback devices then that speaker can be selected as microphone.\n",
    "- Then you have to note the ```index``` of these loopback devices and try manually to select the right speaker. (For how to test the loopback devices, see next section below)"
   ]
  },
  {
   "cell_type": "code",
   "execution_count": 2,
   "metadata": {},
   "outputs": [
    {
     "name": "stdout",
     "output_type": "stream",
     "text": [
      "These are all the available speakers and microphones\n",
      "\n",
      "{'index': 0, 'structVersion': 2, 'name': 'Microsoft Sound Mapper - Input', 'hostApi': 0, 'maxInputChannels': 2, 'maxOutputChannels': 0, 'defaultLowInputLatency': 0.09, 'defaultLowOutputLatency': 0.09, 'defaultHighInputLatency': 0.18, 'defaultHighOutputLatency': 0.18, 'defaultSampleRate': 44100.0, 'isLoopbackDevice': False}\n",
      "{'index': 1, 'structVersion': 2, 'name': 'Microphone (Realtek High Defini', 'hostApi': 0, 'maxInputChannels': 2, 'maxOutputChannels': 0, 'defaultLowInputLatency': 0.09, 'defaultLowOutputLatency': 0.09, 'defaultHighInputLatency': 0.18, 'defaultHighOutputLatency': 0.18, 'defaultSampleRate': 44100.0, 'isLoopbackDevice': False}\n",
      "{'index': 2, 'structVersion': 2, 'name': 'Stereo Mix (Realtek High Defini', 'hostApi': 0, 'maxInputChannels': 2, 'maxOutputChannels': 0, 'defaultLowInputLatency': 0.09, 'defaultLowOutputLatency': 0.09, 'defaultHighInputLatency': 0.18, 'defaultHighOutputLatency': 0.18, 'defaultSampleRate': 44100.0, 'isLoopbackDevice': False}\n",
      "{'index': 3, 'structVersion': 2, 'name': 'Headset (realme Buds Wireless 3', 'hostApi': 0, 'maxInputChannels': 2, 'maxOutputChannels': 0, 'defaultLowInputLatency': 0.09, 'defaultLowOutputLatency': 0.09, 'defaultHighInputLatency': 0.18, 'defaultHighOutputLatency': 0.18, 'defaultSampleRate': 44100.0, 'isLoopbackDevice': False}\n",
      "{'index': 4, 'structVersion': 2, 'name': 'Microsoft Sound Mapper - Output', 'hostApi': 0, 'maxInputChannels': 0, 'maxOutputChannels': 2, 'defaultLowInputLatency': 0.09, 'defaultLowOutputLatency': 0.09, 'defaultHighInputLatency': 0.18, 'defaultHighOutputLatency': 0.18, 'defaultSampleRate': 44100.0, 'isLoopbackDevice': False}\n",
      "{'index': 5, 'structVersion': 2, 'name': 'Headset (realme Buds Wireless 3', 'hostApi': 0, 'maxInputChannels': 0, 'maxOutputChannels': 2, 'defaultLowInputLatency': 0.09, 'defaultLowOutputLatency': 0.09, 'defaultHighInputLatency': 0.18, 'defaultHighOutputLatency': 0.18, 'defaultSampleRate': 44100.0, 'isLoopbackDevice': False}\n",
      "{'index': 6, 'structVersion': 2, 'name': 'P01 (Intel(R) Display Audio)', 'hostApi': 0, 'maxInputChannels': 0, 'maxOutputChannels': 2, 'defaultLowInputLatency': 0.09, 'defaultLowOutputLatency': 0.09, 'defaultHighInputLatency': 0.18, 'defaultHighOutputLatency': 0.18, 'defaultSampleRate': 44100.0, 'isLoopbackDevice': False}\n",
      "{'index': 7, 'structVersion': 2, 'name': 'Headphones (realme Buds Wireles', 'hostApi': 0, 'maxInputChannels': 0, 'maxOutputChannels': 2, 'defaultLowInputLatency': 0.09, 'defaultLowOutputLatency': 0.09, 'defaultHighInputLatency': 0.18, 'defaultHighOutputLatency': 0.18, 'defaultSampleRate': 44100.0, 'isLoopbackDevice': False}\n",
      "{'index': 8, 'structVersion': 2, 'name': 'Speakers (Realtek High Definiti', 'hostApi': 0, 'maxInputChannels': 0, 'maxOutputChannels': 2, 'defaultLowInputLatency': 0.09, 'defaultLowOutputLatency': 0.09, 'defaultHighInputLatency': 0.18, 'defaultHighOutputLatency': 0.18, 'defaultSampleRate': 44100.0, 'isLoopbackDevice': False}\n",
      "{'index': 9, 'structVersion': 2, 'name': 'Primary Sound Capture Driver', 'hostApi': 1, 'maxInputChannels': 2, 'maxOutputChannels': 0, 'defaultLowInputLatency': 0.12, 'defaultLowOutputLatency': 0.0, 'defaultHighInputLatency': 0.24, 'defaultHighOutputLatency': 0.0, 'defaultSampleRate': 44100.0, 'isLoopbackDevice': False}\n",
      "{'index': 10, 'structVersion': 2, 'name': 'Microphone (Realtek High Definition Audio)', 'hostApi': 1, 'maxInputChannels': 2, 'maxOutputChannels': 0, 'defaultLowInputLatency': 0.12, 'defaultLowOutputLatency': 0.0, 'defaultHighInputLatency': 0.24, 'defaultHighOutputLatency': 0.0, 'defaultSampleRate': 44100.0, 'isLoopbackDevice': False}\n",
      "{'index': 11, 'structVersion': 2, 'name': 'Stereo Mix (Realtek High Definition Audio)', 'hostApi': 1, 'maxInputChannels': 2, 'maxOutputChannels': 0, 'defaultLowInputLatency': 0.12, 'defaultLowOutputLatency': 0.0, 'defaultHighInputLatency': 0.24, 'defaultHighOutputLatency': 0.0, 'defaultSampleRate': 44100.0, 'isLoopbackDevice': False}\n",
      "{'index': 12, 'structVersion': 2, 'name': 'Headset (realme Buds Wireless 3 Hands-Free AG Audio)', 'hostApi': 1, 'maxInputChannels': 2, 'maxOutputChannels': 0, 'defaultLowInputLatency': 0.12, 'defaultLowOutputLatency': 0.0, 'defaultHighInputLatency': 0.24, 'defaultHighOutputLatency': 0.0, 'defaultSampleRate': 44100.0, 'isLoopbackDevice': False}\n",
      "{'index': 13, 'structVersion': 2, 'name': 'Primary Sound Driver', 'hostApi': 1, 'maxInputChannels': 0, 'maxOutputChannels': 1, 'defaultLowInputLatency': 0.0, 'defaultLowOutputLatency': 0.12, 'defaultHighInputLatency': 0.0, 'defaultHighOutputLatency': 0.24, 'defaultSampleRate': 44100.0, 'isLoopbackDevice': False}\n",
      "{'index': 14, 'structVersion': 2, 'name': 'Headset (realme Buds Wireless 3 Hands-Free AG Audio)', 'hostApi': 1, 'maxInputChannels': 0, 'maxOutputChannels': 1, 'defaultLowInputLatency': 0.0, 'defaultLowOutputLatency': 0.12, 'defaultHighInputLatency': 0.0, 'defaultHighOutputLatency': 0.24, 'defaultSampleRate': 44100.0, 'isLoopbackDevice': False}\n",
      "{'index': 15, 'structVersion': 2, 'name': 'P01 (Intel(R) Display Audio)', 'hostApi': 1, 'maxInputChannels': 0, 'maxOutputChannels': 2, 'defaultLowInputLatency': 0.0, 'defaultLowOutputLatency': 0.12, 'defaultHighInputLatency': 0.0, 'defaultHighOutputLatency': 0.24, 'defaultSampleRate': 44100.0, 'isLoopbackDevice': False}\n",
      "{'index': 16, 'structVersion': 2, 'name': 'Headphones (realme Buds Wireless 3 Stereo)', 'hostApi': 1, 'maxInputChannels': 0, 'maxOutputChannels': 2, 'defaultLowInputLatency': 0.0, 'defaultLowOutputLatency': 0.12, 'defaultHighInputLatency': 0.0, 'defaultHighOutputLatency': 0.24, 'defaultSampleRate': 44100.0, 'isLoopbackDevice': False}\n",
      "{'index': 17, 'structVersion': 2, 'name': 'Speakers (Realtek High Definition Audio)', 'hostApi': 1, 'maxInputChannels': 0, 'maxOutputChannels': 2, 'defaultLowInputLatency': 0.0, 'defaultLowOutputLatency': 0.12, 'defaultHighInputLatency': 0.0, 'defaultHighOutputLatency': 0.24, 'defaultSampleRate': 44100.0, 'isLoopbackDevice': False}\n",
      "{'index': 18, 'structVersion': 2, 'name': 'P01 (Intel(R) Display Audio)', 'hostApi': 2, 'maxInputChannels': 0, 'maxOutputChannels': 2, 'defaultLowInputLatency': 0.0, 'defaultLowOutputLatency': 0.003, 'defaultHighInputLatency': 0.0, 'defaultHighOutputLatency': 0.01, 'defaultSampleRate': 48000.0, 'isLoopbackDevice': False}\n",
      "{'index': 19, 'structVersion': 2, 'name': 'Headphones (realme Buds Wireless 3 Stereo)', 'hostApi': 2, 'maxInputChannels': 0, 'maxOutputChannels': 2, 'defaultLowInputLatency': 0.0, 'defaultLowOutputLatency': 0.003, 'defaultHighInputLatency': 0.0, 'defaultHighOutputLatency': 0.01, 'defaultSampleRate': 44100.0, 'isLoopbackDevice': False}\n",
      "{'index': 20, 'structVersion': 2, 'name': 'Speakers (Realtek High Definition Audio)', 'hostApi': 2, 'maxInputChannels': 0, 'maxOutputChannels': 2, 'defaultLowInputLatency': 0.0, 'defaultLowOutputLatency': 0.003, 'defaultHighInputLatency': 0.0, 'defaultHighOutputLatency': 0.01, 'defaultSampleRate': 96000.0, 'isLoopbackDevice': False}\n",
      "{'index': 21, 'structVersion': 2, 'name': 'Headset (realme Buds Wireless 3 Hands-Free AG Audio)', 'hostApi': 2, 'maxInputChannels': 0, 'maxOutputChannels': 1, 'defaultLowInputLatency': 0.0, 'defaultLowOutputLatency': 0.003, 'defaultHighInputLatency': 0.0, 'defaultHighOutputLatency': 0.01, 'defaultSampleRate': 16000.0, 'isLoopbackDevice': False}\n",
      "{'index': 22, 'structVersion': 2, 'name': 'Stereo Mix (Realtek High Definition Audio)', 'hostApi': 2, 'maxInputChannels': 2, 'maxOutputChannels': 0, 'defaultLowInputLatency': 0.0013333, 'defaultLowOutputLatency': 0.0, 'defaultHighInputLatency': 0.01, 'defaultHighOutputLatency': 0.0, 'defaultSampleRate': 48000.0, 'isLoopbackDevice': False}\n",
      "{'index': 23, 'structVersion': 2, 'name': 'Headset (realme Buds Wireless 3 Hands-Free AG Audio)', 'hostApi': 2, 'maxInputChannels': 1, 'maxOutputChannels': 0, 'defaultLowInputLatency': 0.003, 'defaultLowOutputLatency': 0.0, 'defaultHighInputLatency': 0.01, 'defaultHighOutputLatency': 0.0, 'defaultSampleRate': 16000.0, 'isLoopbackDevice': False}\n",
      "{'index': 24, 'structVersion': 2, 'name': 'Microphone (Realtek High Definition Audio)', 'hostApi': 2, 'maxInputChannels': 2, 'maxOutputChannels': 0, 'defaultLowInputLatency': 0.0013333, 'defaultLowOutputLatency': 0.0, 'defaultHighInputLatency': 0.01, 'defaultHighOutputLatency': 0.0, 'defaultSampleRate': 48000.0, 'isLoopbackDevice': False}\n",
      "{'index': 25, 'structVersion': 2, 'name': 'P01 (Intel(R) Display Audio) [Loopback]', 'hostApi': 2, 'maxInputChannels': 2, 'maxOutputChannels': 0, 'defaultLowInputLatency': 0.003, 'defaultLowOutputLatency': 0.0, 'defaultHighInputLatency': 0.01, 'defaultHighOutputLatency': 0.0, 'defaultSampleRate': 48000.0, 'isLoopbackDevice': True}\n",
      "{'index': 26, 'structVersion': 2, 'name': 'Headphones (realme Buds Wireless 3 Stereo) [Loopback]', 'hostApi': 2, 'maxInputChannels': 2, 'maxOutputChannels': 0, 'defaultLowInputLatency': 0.003, 'defaultLowOutputLatency': 0.0, 'defaultHighInputLatency': 0.01, 'defaultHighOutputLatency': 0.0, 'defaultSampleRate': 44100.0, 'isLoopbackDevice': True}\n",
      "{'index': 27, 'structVersion': 2, 'name': 'Speakers (Realtek High Definition Audio) [Loopback]', 'hostApi': 2, 'maxInputChannels': 2, 'maxOutputChannels': 0, 'defaultLowInputLatency': 0.003, 'defaultLowOutputLatency': 0.0, 'defaultHighInputLatency': 0.01, 'defaultHighOutputLatency': 0.0, 'defaultSampleRate': 96000.0, 'isLoopbackDevice': True}\n",
      "{'index': 28, 'structVersion': 2, 'name': 'Headset (realme Buds Wireless 3 Hands-Free AG Audio) [Loopback]', 'hostApi': 2, 'maxInputChannels': 1, 'maxOutputChannels': 0, 'defaultLowInputLatency': 0.003, 'defaultLowOutputLatency': 0.0, 'defaultHighInputLatency': 0.01, 'defaultHighOutputLatency': 0.0, 'defaultSampleRate': 16000.0, 'isLoopbackDevice': True}\n"
     ]
    }
   ],
   "source": [
    "p = pyaudio.PyAudio()\n",
    "\n",
    "print('These are all the available speakers and microphones\\n')\n",
    "\n",
    "for idx in range(p.get_device_count()):\n",
    "    print(p.get_device_info_by_index(idx))\n"
   ]
  },
  {
   "cell_type": "markdown",
   "metadata": {},
   "source": [
    "### In this case device index 25,26,27,28 have their ```'isLoopbackDevice': True``` \n",
    "\n",
    "- First see the device name of index 28\n",
    "- Now play a audio or video with full volume in that device\n",
    "- The below code snippet will recod 5 sec of audio and display that in a plot. "
   ]
  },
  {
   "cell_type": "code",
   "execution_count": 3,
   "metadata": {},
   "outputs": [
    {
     "data": {
      "image/png": "[encoded data removed]",
      "text/plain": [
       "<Figure size 640x480 with 1 Axes>"
      ]
     },
     "metadata": {},
     "output_type": "display_data"
    }
   ],
   "source": [
    "input_device_index = 28\n",
    "speaker = p.get_device_info_by_index(input_device_index)\n",
    "\n",
    "\n",
    "stream = p.open(format=pyaudio.paInt16, channels=1, rate=int(speaker['defaultSampleRate']), input=True, input_device_index=input_device_index)\n",
    "data = stream.read(int(speaker['defaultSampleRate']) * 5, exception_on_overflow=False)  # Read a chunk of audio (1024 samples per chunk\n",
    "audio_chunk = np.frombuffer(data, np.int16).flatten().astype(np.float32) / 32768.0\n",
    "\n",
    "plt.plot(audio_chunk)\n",
    "plt.show()\n",
    "\n",
    "stream.stop_stream()\n",
    "stream.close()\n",
    "p.terminate()"
   ]
  },
  {
   "cell_type": "markdown",
   "metadata": {},
   "source": [
    "### If you were able to findout a speaker which shows some output then 'BRAVO' you can use that speaker's output as input to your whisper model for live transcriptions"
   ]
  },
  {
   "cell_type": "code",
   "execution_count": null,
   "metadata": {},
   "outputs": [
    {
     "name": "stderr",
     "output_type": "stream",
     "text": [
      "Special tokens have been added in the vocabulary, make sure the associated word embeddings are fine-tuned or trained.\n"
     ]
    },
    {
     "name": "stdout",
     "output_type": "stream",
     "text": [
      "The input device is {'index': 28, 'structVersion': 2, 'name': 'Headset (realme Buds Wireless 3 Hands-Free AG Audio) [Loopback]', 'hostApi': 2, 'maxInputChannels': 1, 'maxOutputChannels': 0, 'defaultLowInputLatency': 0.003, 'defaultLowOutputLatency': 0.0, 'defaultHighInputLatency': 0.01, 'defaultHighOutputLatency': 0.0, 'defaultSampleRate': 16000.0, 'isLoopbackDevice': True}\n",
      "Listening for audio... Speak now.\n"
     ]
    },
    {
     "name": "stderr",
     "output_type": "stream",
     "text": [
      "c:\\Users\\Asus\\miniconda3\\lib\\site-packages\\transformers\\models\\whisper\\modeling_whisper.py:694: UserWarning: 1Torch was not compiled with flash attention. (Triggered internally at C:\\actions-runner\\_work\\pytorch\\pytorch\\builder\\windows\\pytorch\\aten\\src\\ATen\\native\\transformers\\cuda\\sdp_utils.cpp:263.)\n",
      "  attn_output = torch.nn.functional.scaled_dot_product_attention(\n"
     ]
    },
    {
     "name": "stdout",
     "output_type": "stream",
     "text": [
      "Transcription (1.171s):  What do you like the most in French? I like the French language.\n",
      "Transcription (0.768s):  The character is the rigor. Is it the or the rigor? It's the rigor.\n",
      "Transcription (0.763s):  Josh, what do you like in French?\n",
      "Transcription (0.996s):  who doesn't go straight to the end, it's not square. I think it's a bit of a drag.\n",
      "Transcription (1.232s):  We always hear a French guy saying, come on, you're good at concluding, but come on, you're a little bit of a chump.\n"
     ]
    }
   ],
   "source": [
    "\n",
    "INPUT_DEVICE = {1:'microphone', 2:'speaker'}\n",
    "\"\"\" for pc_speaker, go to the sound icon and right click-> choose sounds -> recordings -> choose streo Mix as default  \"\"\"\n",
    "INPUT_DEVICE_IDX = 2\n",
    "\n",
    "\n",
    "device='cuda'\n",
    "# Load model and processor\n",
    "processor = WhisperProcessor.from_pretrained(\"openai/whisper-small\")\n",
    "model = WhisperForConditionalGeneration.from_pretrained(\"openai/whisper-small\").to(device)\n",
    "# forced_decoder_ids = processor.get_decoder_prompt_ids(language=\"french\", task=\"transcribe\")#for french to french\n",
    "forced_decoder_ids = processor.get_decoder_prompt_ids(language=\"french\", task=\"translate\")#for french to english\n",
    "# forced_decoder_ids = None # for english to english\n",
    "\n",
    "\n",
    "\n",
    "# Initialize PyAudio\n",
    "p = pyaudio.PyAudio()\n",
    "\n",
    "micro_phone = p.get_device_info_by_index(input_device_index)\n",
    "print(f'The input device is {micro_phone}')\n",
    "\n",
    "# Settings for recording audio\n",
    "FORMAT = pyaudio.paInt16\n",
    "CHANNELS = 1\n",
    "RATE = int(micro_phone['defaultSampleRate'] ) \n",
    "WHISPER_RATE = 16000# Whisper expects 16kHz input\n",
    "TRANSCRIPTION_INTERVAL = 5  # Interval for transcription in seconds\n",
    "\n",
    "# Open a stream to record audio\n",
    "\n",
    "stream = p.open(format=FORMAT, channels=CHANNELS, rate=RATE, input=True, input_device_index=micro_phone[\"index\"])\n",
    "\n",
    "print(\"Listening for audio... Speak now.\")\n",
    "\n",
    "audio_frames = np.array([], dtype=np.float32)  # Store raw audio frames\n",
    "\n",
    "# Open a text file to save the transcriptions\n",
    "transcription_file = open(\"transcriptions_cpu.txt\", \"a\")\n",
    "\n",
    "\n",
    "while True:\n",
    "    try:\n",
    "\n",
    "        # Read a chunk of audio\n",
    "        data = stream.read(RATE*TRANSCRIPTION_INTERVAL, exception_on_overflow=False)  # Read a chunk of audio (1024 samples per chunk\n",
    "        audio_chunk = np.frombuffer(data, np.int16).flatten().astype(np.float32) / 32768.0\n",
    "        audio_chunk = resample(audio_chunk, int(len(audio_chunk) * WHISPER_RATE / RATE))  # Resample to 16kHz (it is needed as the WHISPER model is trained on 16KHZ data)\n",
    "\n",
    "\n",
    "        audio_frames = np.append(audio_frames, audio_chunk)  # Save raw audio data for MP3 conversion\n",
    "     \n",
    "\n",
    "\n",
    "        start_translation_time = time.time()\n",
    "\n",
    "        input_features = processor(audio_chunk, sampling_rate=WHISPER_RATE, return_tensors=\"pt\").input_features\n",
    "        # Generate token ids\n",
    "        predicted_ids = model.generate(input_features.to(device), forced_decoder_ids=forced_decoder_ids)\n",
    "        # Decode token ids to text\n",
    "        transcription = processor.batch_decode(predicted_ids, skip_special_tokens=True)\n",
    "        transcription_text = transcription[0]\n",
    "\n",
    "        translation_duration = time.time() - start_translation_time\n",
    "\n",
    "        # Save the transcription with a timestamp to the file\n",
    "        timestamp = datetime.now().strftime('%Y-%m-%d %H:%M:%S')\n",
    "        transcription_file.write(f\"[{timestamp}] {transcription_text}\\n\")\n",
    "        transcription_file.flush()  # Ensure it's written to the file immediately\n",
    "\n",
    "\n",
    "        # Print the transcription\n",
    "        print(f\"Transcription ({translation_duration:0.3f}s): {transcription_text}\")\n",
    "\n",
    "\n",
    "\n",
    "    except KeyboardInterrupt:\n",
    "        print(\"Stopped listening.\")\n",
    "        save_wave(audio_frames, rate=WHISPER_RATE)\n",
    "        break\n",
    "\n",
    "# Stop and close the stream\n",
    "stream.stop_stream()\n",
    "stream.close()\n",
    "p.terminate()\n",
    "\n"
   ]
  },
  {
   "cell_type": "code",
   "execution_count": 1,
   "metadata": {},
   "outputs": [
    {
     "ename": "NameError",
     "evalue": "name 'np' is not defined",
     "output_type": "error",
     "traceback": [
      "\u001b[1;31m---------------------------------------------------------------------------\u001b[0m",
      "\u001b[1;31mNameError\u001b[0m                                 Traceback (most recent call last)",
      "Cell \u001b[1;32mIn[1], line 2\u001b[0m\n\u001b[0;32m      1\u001b[0m \u001b[38;5;66;03m# data = stream.read(RATE*TRANSCRIPTION_INTERVAL, exception_on_overflow=False)  # Read a chunk of audio (1024 samples per chunk\u001b[39;00m\n\u001b[1;32m----> 2\u001b[0m audio_chunk \u001b[38;5;241m=\u001b[39m \u001b[43mnp\u001b[49m\u001b[38;5;241m.\u001b[39mfrombuffer(data, np\u001b[38;5;241m.\u001b[39mint16)\u001b[38;5;241m.\u001b[39mflatten()\u001b[38;5;241m.\u001b[39mastype(np\u001b[38;5;241m.\u001b[39mfloat32) \u001b[38;5;241m/\u001b[39m \u001b[38;5;241m32768.0\u001b[39m\n\u001b[0;32m      3\u001b[0m \u001b[38;5;28mprint\u001b[39m(\u001b[38;5;28mlen\u001b[39m(audio_chunk))\n\u001b[0;32m      4\u001b[0m plt\u001b[38;5;241m.\u001b[39mplot(audio_chunk)\n",
      "\u001b[1;31mNameError\u001b[0m: name 'np' is not defined"
     ]
    }
   ],
   "source": [
    "# data = stream.read(RATE*TRANSCRIPTION_INTERVAL, exception_on_overflow=False)  # Read a chunk of audio (1024 samples per chunk\n",
    "audio_chunk = np.frombuffer(data, np.int16).flatten().astype(np.float32) / 32768.0\n",
    "print(len(audio_chunk))\n",
    "plt.plot(audio_chunk)\n",
    "plt.show()\n",
    "audio_chunk = resample(audio_chunk, int(len(audio_chunk) * WHISPER_RATE / RATE))  # Resample to 16kHz (it is ne\n",
    "print(len(audio_chunk))\n",
    "plt.plot(audio_chunk)\n",
    "plt.show()\n",
    "\n"
   ]
  }
 ],
 "metadata": {
  "kernelspec": {
   "display_name": "base",
   "language": "python",
   "name": "python3"
  },
  "language_info": {
   "codemirror_mode": {
    "name": "ipython",
    "version": 3
   },
   "file_extension": ".py",
   "mimetype": "text/x-python",
   "name": "python",
   "nbconvert_exporter": "python",
   "pygments_lexer": "ipython3",
   "version": "3.9.19"
  }
 },
 "nbformat": 4,
 "nbformat_minor": 2
}
