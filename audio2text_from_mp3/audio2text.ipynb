{
 "cells": [
  {
   "cell_type": "markdown",
   "metadata": {},
   "source": [
    "## Transcribing mp3 file to numpy requires the FFmpeg. Follow the steps in this link to have it installed. [(How to install FFmpeg in windows)](https://www.wikihow.com/Install-FFmpeg-on-Windows)"
   ]
  },
  {
   "cell_type": "code",
   "execution_count": 3,
   "metadata": {},
   "outputs": [],
   "source": [
    "# pip install PyAudioWPatch\n",
    "\n",
    "import time\n",
    "from transformers import  pipeline\n",
    "import torch\n",
    "\n"
   ]
  },
  {
   "cell_type": "code",
   "execution_count": 10,
   "metadata": {},
   "outputs": [
    {
     "name": "stderr",
     "output_type": "stream",
     "text": [
      "Special tokens have been added in the vocabulary, make sure the associated word embeddings are fine-tuned or trained.\n"
     ]
    }
   ],
   "source": [
    "device = 'cuda' if torch.cuda.is_available() else 'cpu'\n",
    "\n",
    "\n",
    "pipe  = pipeline(\"automatic-speech-recognition\",\n",
    "                    \"openai/whisper-small\", \n",
    "                    chunk_length_s=30,\n",
    "                    stride_length_s=5,\n",
    "                    return_timestamps=True,\n",
    "                    device=device, \n",
    "                    generate_kwargs = {\"language\": 'en', \"task\": \"transcribe\"}) # if you don't have GPU, remove this argument"
   ]
  },
  {
   "cell_type": "code",
   "execution_count": 11,
   "metadata": {},
   "outputs": [
    {
     "name": "stdout",
     "output_type": "stream",
     "text": [
      "In high school I had a uniform.\n",
      " I had to wear a pleated gray school skirt with a white collared button down shirt every\n",
      " single day and the skirt had to be purchased from school although the white shirt could\n",
      " be purchased at any store. I actually\n",
      " really enjoyed wearing uniform to school every single day because it was easy.\n",
      " It was easy to get up in the morning and just put on my skirt and not have to think about what I'm going to wear.\n",
      " It relieves a lot of stress.\n",
      " It was also nice that everybody else was wearing uniform\n",
      " because I didn't have to think about what other people wore.\n",
      " So I paid more attention to my classes and my studies as opposed to paying\n",
      " attention as to what the latest fashion was or what I should wear to make me\n",
      " more cool, for example. So it was also a great way to reduce discrimination\n",
      " between the kids due to social status.\n",
      " So it was nice to know that even if someone could not\n",
      " afford very expensive clothes, they\n",
      " were still wearing the same thing as everybody else.\n",
      " And there was less discrimination amongst the students.\n"
     ]
    }
   ],
   "source": [
    "transcription = pipe(r\"F:\\Gen-AI-Mini-Projects\\audio2text_from_mp3\\english_audio.mp3\" )\n",
    "\n",
    "\n",
    "\n",
    "formatted_lyrics = \"\"\n",
    "for line in transcription['chunks']:\n",
    "    text = line[\"text\"]\n",
    "    formatted_lyrics += f\"{text}\\n\"\n",
    "\n",
    "print(formatted_lyrics.strip())\n"
   ]
  }
 ],
 "metadata": {
  "kernelspec": {
   "display_name": "base",
   "language": "python",
   "name": "python3"
  },
  "language_info": {
   "codemirror_mode": {
    "name": "ipython",
    "version": 3
   },
   "file_extension": ".py",
   "mimetype": "text/x-python",
   "name": "python",
   "nbconvert_exporter": "python",
   "pygments_lexer": "ipython3",
   "version": "3.9.19"
  }
 },
 "nbformat": 4,
 "nbformat_minor": 2
}
